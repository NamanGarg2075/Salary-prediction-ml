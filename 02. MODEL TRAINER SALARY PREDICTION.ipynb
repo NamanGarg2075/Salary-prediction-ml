{
 "cells": [
  {
   "cell_type": "markdown",
   "metadata": {},
   "source": [
    "## Model Trainer Salary of Data Professions"
   ]
  },
  {
   "cell_type": "code",
   "execution_count": 1,
   "metadata": {},
   "outputs": [],
   "source": [
    "# importing librares\n",
    "import pandas as pd\n",
    "import numpy as np\n",
    "import matplotlib.pyplot as plt\n",
    "\n",
    "from sklearn.preprocessing import StandardScaler,OneHotEncoder\n",
    "from sklearn.linear_model import LinearRegression, Ridge, Lasso\n",
    "from sklearn.tree import DecisionTreeRegressor\n",
    "from sklearn.neighbors import KNeighborsRegressor \n",
    "from sklearn.ensemble import RandomForestRegressor\n",
    "\n",
    "from sklearn.metrics import accuracy_score,r2_score\n",
    "from sklearn.model_selection import RandomizedSearchCV"
   ]
  },
  {
   "cell_type": "code",
   "execution_count": 2,
   "metadata": {},
   "outputs": [
    {
     "data": {
      "text/html": [
       "<div>\n",
       "<style scoped>\n",
       "    .dataframe tbody tr th:only-of-type {\n",
       "        vertical-align: middle;\n",
       "    }\n",
       "\n",
       "    .dataframe tbody tr th {\n",
       "        vertical-align: top;\n",
       "    }\n",
       "\n",
       "    .dataframe thead th {\n",
       "        text-align: right;\n",
       "    }\n",
       "</style>\n",
       "<table border=\"1\" class=\"dataframe\">\n",
       "  <thead>\n",
       "    <tr style=\"text-align: right;\">\n",
       "      <th></th>\n",
       "      <th>FIRST NAME</th>\n",
       "      <th>LAST NAME</th>\n",
       "      <th>SEX</th>\n",
       "      <th>DOJ</th>\n",
       "      <th>CURRENT DATE</th>\n",
       "      <th>DESIGNATION</th>\n",
       "      <th>AGE</th>\n",
       "      <th>UNIT</th>\n",
       "      <th>LEAVES USED</th>\n",
       "      <th>LEAVES REMAINING</th>\n",
       "      <th>RATINGS</th>\n",
       "      <th>PAST EXP</th>\n",
       "      <th>SALARY</th>\n",
       "      <th>DAY</th>\n",
       "      <th>DAY NAME</th>\n",
       "      <th>MONTH</th>\n",
       "      <th>YEAR</th>\n",
       "    </tr>\n",
       "  </thead>\n",
       "  <tbody>\n",
       "    <tr>\n",
       "      <th>0</th>\n",
       "      <td>TOMASA</td>\n",
       "      <td>ARMEN</td>\n",
       "      <td>F</td>\n",
       "      <td>2014-05-18</td>\n",
       "      <td>2016-01-07</td>\n",
       "      <td>Analyst</td>\n",
       "      <td>21.0</td>\n",
       "      <td>Finance</td>\n",
       "      <td>24</td>\n",
       "      <td>6</td>\n",
       "      <td>2.0</td>\n",
       "      <td>0</td>\n",
       "      <td>44570</td>\n",
       "      <td>18</td>\n",
       "      <td>Sunday</td>\n",
       "      <td>5</td>\n",
       "      <td>2014</td>\n",
       "    </tr>\n",
       "    <tr>\n",
       "      <th>1</th>\n",
       "      <td>OLIVE</td>\n",
       "      <td>ANCY</td>\n",
       "      <td>F</td>\n",
       "      <td>2014-07-28</td>\n",
       "      <td>2016-01-07</td>\n",
       "      <td>Analyst</td>\n",
       "      <td>21.0</td>\n",
       "      <td>Finance</td>\n",
       "      <td>23</td>\n",
       "      <td>7</td>\n",
       "      <td>3.0</td>\n",
       "      <td>0</td>\n",
       "      <td>40955</td>\n",
       "      <td>28</td>\n",
       "      <td>Monday</td>\n",
       "      <td>7</td>\n",
       "      <td>2014</td>\n",
       "    </tr>\n",
       "    <tr>\n",
       "      <th>2</th>\n",
       "      <td>CHERRY</td>\n",
       "      <td>AQUILAR</td>\n",
       "      <td>F</td>\n",
       "      <td>2013-04-03</td>\n",
       "      <td>2016-01-07</td>\n",
       "      <td>Analyst</td>\n",
       "      <td>22.0</td>\n",
       "      <td>IT</td>\n",
       "      <td>22</td>\n",
       "      <td>8</td>\n",
       "      <td>3.0</td>\n",
       "      <td>0</td>\n",
       "      <td>45550</td>\n",
       "      <td>3</td>\n",
       "      <td>Wednesday</td>\n",
       "      <td>4</td>\n",
       "      <td>2013</td>\n",
       "    </tr>\n",
       "    <tr>\n",
       "      <th>3</th>\n",
       "      <td>LEON</td>\n",
       "      <td>ABOULAHOUD</td>\n",
       "      <td>M</td>\n",
       "      <td>2014-11-20</td>\n",
       "      <td>2016-01-07</td>\n",
       "      <td>Analyst</td>\n",
       "      <td>24.0</td>\n",
       "      <td>Operations</td>\n",
       "      <td>27</td>\n",
       "      <td>3</td>\n",
       "      <td>0.0</td>\n",
       "      <td>3</td>\n",
       "      <td>43161</td>\n",
       "      <td>20</td>\n",
       "      <td>Thursday</td>\n",
       "      <td>11</td>\n",
       "      <td>2014</td>\n",
       "    </tr>\n",
       "    <tr>\n",
       "      <th>4</th>\n",
       "      <td>VICTORIA</td>\n",
       "      <td>-</td>\n",
       "      <td>F</td>\n",
       "      <td>2013-02-19</td>\n",
       "      <td>2016-01-07</td>\n",
       "      <td>Analyst</td>\n",
       "      <td>22.0</td>\n",
       "      <td>Marketing</td>\n",
       "      <td>20</td>\n",
       "      <td>10</td>\n",
       "      <td>4.0</td>\n",
       "      <td>0</td>\n",
       "      <td>48736</td>\n",
       "      <td>19</td>\n",
       "      <td>Tuesday</td>\n",
       "      <td>2</td>\n",
       "      <td>2013</td>\n",
       "    </tr>\n",
       "  </tbody>\n",
       "</table>\n",
       "</div>"
      ],
      "text/plain": [
       "  FIRST NAME   LAST NAME SEX         DOJ CURRENT DATE DESIGNATION   AGE  \\\n",
       "0     TOMASA       ARMEN   F  2014-05-18   2016-01-07     Analyst  21.0   \n",
       "1      OLIVE        ANCY   F  2014-07-28   2016-01-07     Analyst  21.0   \n",
       "2     CHERRY     AQUILAR   F  2013-04-03   2016-01-07     Analyst  22.0   \n",
       "3       LEON  ABOULAHOUD   M  2014-11-20   2016-01-07     Analyst  24.0   \n",
       "4   VICTORIA           -   F  2013-02-19   2016-01-07     Analyst  22.0   \n",
       "\n",
       "         UNIT  LEAVES USED  LEAVES REMAINING  RATINGS  PAST EXP  SALARY  DAY  \\\n",
       "0     Finance           24                 6      2.0         0   44570   18   \n",
       "1     Finance           23                 7      3.0         0   40955   28   \n",
       "2          IT           22                 8      3.0         0   45550    3   \n",
       "3  Operations           27                 3      0.0         3   43161   20   \n",
       "4   Marketing           20                10      4.0         0   48736   19   \n",
       "\n",
       "    DAY NAME  MONTH  YEAR  \n",
       "0     Sunday      5  2014  \n",
       "1     Monday      7  2014  \n",
       "2  Wednesday      4  2013  \n",
       "3   Thursday     11  2014  \n",
       "4    Tuesday      2  2013  "
      ]
     },
     "execution_count": 2,
     "metadata": {},
     "output_type": "execute_result"
    }
   ],
   "source": [
    "# importing data\n",
    "df=pd.read_csv('data/cleaned_data.csv')\n",
    "df.head()"
   ]
  },
  {
   "cell_type": "code",
   "execution_count": 3,
   "metadata": {},
   "outputs": [],
   "source": [
    "col_names = df.columns.tolist()\n",
    "col_names = col_names[0:12] + col_names[13:] + [col_names[12]]\n",
    "X = df[col_names[:-1]]\n",
    "y = df[col_names[-1]]"
   ]
  },
  {
   "cell_type": "code",
   "execution_count": 4,
   "metadata": {},
   "outputs": [],
   "source": [
    "# removing unnecessary columns\n",
    "X = X.drop(columns=['FIRST NAME','LAST NAME','DOJ','CURRENT DATE','LEAVES USED','LEAVES REMAINING','DAY','DAY NAME'])"
   ]
  },
  {
   "cell_type": "code",
   "execution_count": 5,
   "metadata": {},
   "outputs": [
    {
     "name": "stdout",
     "output_type": "stream",
     "text": [
      "<class 'pandas.core.frame.DataFrame'>\n",
      "RangeIndex: 2477 entries, 0 to 2476\n",
      "Data columns (total 8 columns):\n",
      " #   Column       Non-Null Count  Dtype  \n",
      "---  ------       --------------  -----  \n",
      " 0   SEX          2477 non-null   object \n",
      " 1   DESIGNATION  2477 non-null   object \n",
      " 2   AGE          2477 non-null   float64\n",
      " 3   UNIT         2477 non-null   object \n",
      " 4   RATINGS      2477 non-null   float64\n",
      " 5   PAST EXP     2477 non-null   int64  \n",
      " 6   MONTH        2477 non-null   int64  \n",
      " 7   YEAR         2477 non-null   int64  \n",
      "dtypes: float64(2), int64(3), object(3)\n",
      "memory usage: 154.9+ KB\n"
     ]
    }
   ],
   "source": [
    "X.info()"
   ]
  },
  {
   "cell_type": "code",
   "execution_count": 6,
   "metadata": {},
   "outputs": [],
   "source": [
    "num_features = X.select_dtypes(exclude='object').columns\n",
    "cat_features = X.select_dtypes(include='object').columns\n",
    "\n",
    "from sklearn.compose import ColumnTransformer\n",
    "\n",
    "numeric_transformer = StandardScaler()\n",
    "categorical_transformer = OneHotEncoder()\n",
    "\n",
    "preprocessor = ColumnTransformer(\n",
    "    [\n",
    "        ('OneHotEncoder',categorical_transformer,cat_features),\n",
    "        ('StandardScaler',numeric_transformer,num_features),\n",
    "    ]\n",
    ")"
   ]
  },
  {
   "cell_type": "code",
   "execution_count": 7,
   "metadata": {},
   "outputs": [],
   "source": [
    "X_t = preprocessor.fit_transform(X)"
   ]
  },
  {
   "cell_type": "code",
   "execution_count": 8,
   "metadata": {},
   "outputs": [
    {
     "data": {
      "text/plain": [
       "(2477, 19)"
      ]
     },
     "execution_count": 8,
     "metadata": {},
     "output_type": "execute_result"
    }
   ],
   "source": [
    "X_t.shape"
   ]
  },
  {
   "cell_type": "code",
   "execution_count": 9,
   "metadata": {},
   "outputs": [
    {
     "data": {
      "text/plain": [
       "(2477, 8)"
      ]
     },
     "execution_count": 9,
     "metadata": {},
     "output_type": "execute_result"
    }
   ],
   "source": [
    "X.shape"
   ]
  },
  {
   "cell_type": "code",
   "execution_count": 10,
   "metadata": {},
   "outputs": [
    {
     "data": {
      "text/plain": [
       "((1981, 19), (496, 19))"
      ]
     },
     "execution_count": 10,
     "metadata": {},
     "output_type": "execute_result"
    }
   ],
   "source": [
    "# separate dataset into train and test\n",
    "from sklearn.model_selection import train_test_split\n",
    "X_train, X_test, y_train, y_test = train_test_split(X_t,y,test_size=0.2,random_state=42)\n",
    "X_train.shape, X_test.shape"
   ]
  },
  {
   "cell_type": "code",
   "execution_count": 11,
   "metadata": {},
   "outputs": [
    {
     "data": {
      "text/plain": [
       "0.9629434307435873"
      ]
     },
     "execution_count": 11,
     "metadata": {},
     "output_type": "execute_result"
    }
   ],
   "source": [
    "model = LinearRegression()\n",
    "model.fit(X_train,y_train)\n",
    "y_pred = model.predict(X_test)\n",
    "r2_score(y_test,y_pred)"
   ]
  },
  {
   "cell_type": "code",
   "execution_count": 12,
   "metadata": {},
   "outputs": [
    {
     "name": "stdout",
     "output_type": "stream",
     "text": [
      "[0.95847121 0.9549807  0.94712537]\n"
     ]
    }
   ],
   "source": [
    "from sklearn.model_selection import cross_val_score\n",
    "print(cross_val_score(model,X_train,y_train,cv=3))"
   ]
  },
  {
   "cell_type": "code",
   "execution_count": 13,
   "metadata": {},
   "outputs": [],
   "source": [
    "models = {\n",
    "    'Linear Regression':LinearRegression(),\n",
    "    'Decision Tree': DecisionTreeRegressor(),\n",
    "    'KNeighborsRegressor':KNeighborsRegressor(),\n",
    "    'Ridge': Ridge(),\n",
    "    'Lasso':Lasso(),\n",
    "    'RandomForestRegressor':RandomForestRegressor()\n",
    "}\n",
    "model_list = list(models.keys())\n",
    "train_r2_score = []\n",
    "test_r2_score = []\n",
    "l = pd.DataFrame()\n",
    "for i in range(len(list(models))):\n",
    "    model = list(models.values())[i]\n",
    "    model.fit(X_train,y_train)\n",
    "\n",
    "    y_train_pred = model.predict(X_train)\n",
    "    y_test_pred = model.predict(X_test)\n",
    "\n",
    "    \n",
    "    train_r2_score.append(r2_score(y_train,y_train_pred))\n",
    "    test_r2_score.append(r2_score(y_test,y_test_pred))\n",
    "    # l.append(cross_val_score(model,X_train,y_train,cv=3).tolist())"
   ]
  },
  {
   "cell_type": "code",
   "execution_count": 14,
   "metadata": {},
   "outputs": [
    {
     "data": {
      "text/html": [
       "<div>\n",
       "<style scoped>\n",
       "    .dataframe tbody tr th:only-of-type {\n",
       "        vertical-align: middle;\n",
       "    }\n",
       "\n",
       "    .dataframe tbody tr th {\n",
       "        vertical-align: top;\n",
       "    }\n",
       "\n",
       "    .dataframe thead th {\n",
       "        text-align: right;\n",
       "    }\n",
       "</style>\n",
       "<table border=\"1\" class=\"dataframe\">\n",
       "  <thead>\n",
       "    <tr style=\"text-align: right;\">\n",
       "      <th></th>\n",
       "      <th>Models</th>\n",
       "      <th>Train R2</th>\n",
       "      <th>Test R2</th>\n",
       "    </tr>\n",
       "  </thead>\n",
       "  <tbody>\n",
       "    <tr>\n",
       "      <th>0</th>\n",
       "      <td>Linear Regression</td>\n",
       "      <td>0.956749</td>\n",
       "      <td>0.962943</td>\n",
       "    </tr>\n",
       "    <tr>\n",
       "      <th>1</th>\n",
       "      <td>Decision Tree</td>\n",
       "      <td>0.999493</td>\n",
       "      <td>0.903023</td>\n",
       "    </tr>\n",
       "    <tr>\n",
       "      <th>2</th>\n",
       "      <td>KNeighborsRegressor</td>\n",
       "      <td>0.940405</td>\n",
       "      <td>0.934340</td>\n",
       "    </tr>\n",
       "    <tr>\n",
       "      <th>3</th>\n",
       "      <td>Ridge</td>\n",
       "      <td>0.955509</td>\n",
       "      <td>0.959793</td>\n",
       "    </tr>\n",
       "    <tr>\n",
       "      <th>4</th>\n",
       "      <td>Lasso</td>\n",
       "      <td>0.956748</td>\n",
       "      <td>0.962924</td>\n",
       "    </tr>\n",
       "    <tr>\n",
       "      <th>5</th>\n",
       "      <td>RandomForestRegressor</td>\n",
       "      <td>0.992316</td>\n",
       "      <td>0.949825</td>\n",
       "    </tr>\n",
       "  </tbody>\n",
       "</table>\n",
       "</div>"
      ],
      "text/plain": [
       "                  Models  Train R2   Test R2\n",
       "0      Linear Regression  0.956749  0.962943\n",
       "1          Decision Tree  0.999493  0.903023\n",
       "2    KNeighborsRegressor  0.940405  0.934340\n",
       "3                  Ridge  0.955509  0.959793\n",
       "4                  Lasso  0.956748  0.962924\n",
       "5  RandomForestRegressor  0.992316  0.949825"
      ]
     },
     "execution_count": 14,
     "metadata": {},
     "output_type": "execute_result"
    }
   ],
   "source": [
    "pd.DataFrame({'Models':model_list,'Train R2':train_r2_score,'Test R2':test_r2_score})"
   ]
  },
  {
   "cell_type": "markdown",
   "metadata": {},
   "source": [
    "## Linear Regression"
   ]
  },
  {
   "cell_type": "code",
   "execution_count": 15,
   "metadata": {},
   "outputs": [
    {
     "name": "stdout",
     "output_type": "stream",
     "text": [
      " Accuracy of the model is 96.29\n"
     ]
    }
   ],
   "source": [
    "lin_model = LinearRegression(fit_intercept=True)\n",
    "lin_model = lin_model.fit(X_train, y_train)\n",
    "y_pred = lin_model.predict(X_test)\n",
    "score = r2_score(y_test, y_pred)*100\n",
    "print(\" Accuracy of the model is %.2f\" %score)"
   ]
  },
  {
   "cell_type": "code",
   "execution_count": 16,
   "metadata": {},
   "outputs": [],
   "source": [
    "# exporting model and preprocessor\n",
    "import pickle\n",
    "\n",
    "data ={'data':df,'model':lin_model,'preprocessor':preprocessor}\n",
    "with open('model/model.pkl', 'wb') as file:\n",
    "    pickle.dump(data, file)"
   ]
  }
 ],
 "metadata": {
  "kernelspec": {
   "display_name": "base",
   "language": "python",
   "name": "python3"
  },
  "language_info": {
   "codemirror_mode": {
    "name": "ipython",
    "version": 3
   },
   "file_extension": ".py",
   "mimetype": "text/x-python",
   "name": "python",
   "nbconvert_exporter": "python",
   "pygments_lexer": "ipython3",
   "version": "3.11.5"
  }
 },
 "nbformat": 4,
 "nbformat_minor": 2
}
